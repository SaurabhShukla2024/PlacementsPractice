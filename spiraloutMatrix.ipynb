{
  "nbformat": 4,
  "nbformat_minor": 0,
  "metadata": {
    "colab": {
      "name": "spiraloutMatrix.ipynb",
      "provenance": [],
      "collapsed_sections": [],
      "authorship_tag": "ABX9TyPBL2VswYzCltEg/9TSngt8",
      "include_colab_link": true
    },
    "kernelspec": {
      "name": "python3",
      "display_name": "Python 3"
    }
  },
  "cells": [
    {
      "cell_type": "markdown",
      "metadata": {
        "id": "view-in-github",
        "colab_type": "text"
      },
      "source": [
        "<a href=\"https://colab.research.google.com/github/SaurabhShukla2024/PlacementsPractice/blob/master/spiraloutMatrix.ipynb\" target=\"_parent\"><img src=\"https://colab.research.google.com/assets/colab-badge.svg\" alt=\"Open In Colab\"/></a>"
      ]
    },
    {
      "cell_type": "code",
      "metadata": {
        "id": "8wpvEj3nUwkM",
        "colab_type": "code",
        "colab": {
          "base_uri": "https://localhost:8080/",
          "height": 85
        },
        "outputId": "c79e03ba-ee69-4f71-b8e6-af85145bc3cd"
      },
      "source": [
        "def spiralOut(a):\n",
        "  \n",
        "  t=0\n",
        "  b=(len(a)-1)\n",
        "  r=(len(a[0])-1)\n",
        "  l=0\n",
        "  ans=[]\n",
        "  ans1=[]\n",
        "  ans2=[]\n",
        "  ans3=[]\n",
        "  ans4=[]\n",
        "  dir = 0\n",
        "  while b>=t and r>=l:\n",
        "    if dir==0:\n",
        "      for i in range(l,r+1):\n",
        "        ans1.append(a[t][i])\n",
        "      t+=1\n",
        "      dir = 1\n",
        "    elif dir == 1:\n",
        "      for i in range(t,b+1):\n",
        "        ans2.append(a[i][r])\n",
        "      r-=1\n",
        "      dir=2\n",
        "    elif dir == 2:\n",
        "      print(t,b,l,r,dir)\n",
        "      for i in reversed(range(l,r+1)):\n",
        "        ans3.append(a[b][i])\n",
        "      b-=1\n",
        "      dir=3\n",
        "    elif dir == 3:\n",
        "      print(t,b,l,r,dir)\n",
        "      for i in reversed(range(t,b+1)):\n",
        "        ans4.append(a[i][l])\n",
        "      l+=1\n",
        "      dir=0\n",
        "\n",
        "  ans.append(ans1)\n",
        "  ans.append(ans2)\n",
        "  ans.append(ans3)\n",
        "  ans.append(ans4)\n",
        "      \n",
        "\n",
        "  \n",
        "  return ans\n",
        "\n",
        "print(spiralOut([[1,2,3,4],[5,6,7,8],[9,10,11,12],[13,14,15,16]]))"
      ],
      "execution_count": 115,
      "outputs": [
        {
          "output_type": "stream",
          "text": [
            "1 3 0 2 2\n",
            "1 2 0 2 3\n",
            "2 2 1 1 2\n",
            "[[1, 2, 3, 4, 6, 7], [8, 12, 16, 11], [15, 14, 13, 10], [9, 5]]\n"
          ],
          "name": "stdout"
        }
      ]
    },
    {
      "cell_type": "code",
      "metadata": {
        "id": "eU0VJgUIbxZS",
        "colab_type": "code",
        "colab": {}
      },
      "source": [
        ""
      ],
      "execution_count": 59,
      "outputs": []
    }
  ]
}